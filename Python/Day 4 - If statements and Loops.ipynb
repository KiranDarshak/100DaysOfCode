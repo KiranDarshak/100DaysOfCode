{
 "cells": [
  {
   "cell_type": "markdown",
   "metadata": {},
   "source": [
    "# Python Statements - if, elif, else \n",
    "\n",
    "**Two main factors here are (1)colon: and (2)whitespace (Indentation)**\n",
    "\n",
    "<code>if</code> Statements in Python allows us to tell the computer to perform alternative actions based on a certain set of results.\n",
    "\n",
    "Verbally: \"Hey if this case happens, perform some action\"\n",
    "\n",
    "We can then expand the idea further with <code>elif</code> and <code>else</code> statements, which allow us to tell the computer:\n",
    "\n",
    "\"Hey if this case happens, perform some action. Else, if another case happens, perform some other action. Else, if *none* of the above cases happened, perform this action.\"\n",
    "\n",
    "Syntax format for <code>if</code> statements:\n",
    "\n",
    "    if case1:\n",
    "        perform action1\n",
    "    elif case2:\n",
    "        perform action2\n",
    "    else: \n",
    "        perform action3"
   ]
  },
  {
   "cell_type": "markdown",
   "metadata": {},
   "source": [
    "**A Simple <code>if<code> Statement**"
   ]
  },
  {
   "cell_type": "code",
   "execution_count": 4,
   "metadata": {},
   "outputs": [
    {
     "name": "stdout",
     "output_type": "stream",
     "text": [
      "Its time to eat\n"
     ]
    }
   ],
   "source": [
    "hungry = True\n",
    "\n",
    "if hungry:\n",
    "    print('Its time to eat')"
   ]
  },
  {
   "cell_type": "markdown",
   "metadata": {},
   "source": [
    "**Using <code>if<code> and <code>else<code> statements**"
   ]
  },
  {
   "cell_type": "code",
   "execution_count": 6,
   "metadata": {},
   "outputs": [
    {
     "name": "stdout",
     "output_type": "stream",
     "text": [
      "I am thirsty,not hungry\n"
     ]
    }
   ],
   "source": [
    "hungry = False\n",
    "\n",
    "if hungry:\n",
    "    print('Its time to eat')\n",
    "else:\n",
    "    print('I am thirsty,not hungry')"
   ]
  },
  {
   "cell_type": "code",
   "execution_count": null,
   "metadata": {},
   "outputs": [],
   "source": []
  },
  {
   "cell_type": "code",
   "execution_count": 8,
   "metadata": {},
   "outputs": [
    {
     "name": "stdout",
     "output_type": "stream",
     "text": [
      "finish your homework\n"
     ]
    }
   ],
   "source": [
    "place = 'school'\n",
    "\n",
    "if place == 'school':\n",
    "    print('finish your homework')\n",
    "elif place == 'bank':\n",
    "    print('withdraw money')\n",
    "else:\n",
    "    print('cant find the location!')"
   ]
  },
  {
   "cell_type": "code",
   "execution_count": 12,
   "metadata": {},
   "outputs": [
    {
     "name": "stdout",
     "output_type": "stream",
     "text": [
      "withdraw money $$\n"
     ]
    }
   ],
   "source": [
    "place = 'bank'\n",
    "\n",
    "if place == 'school':\n",
    "    print('finish your homework')\n",
    "elif place == 'bank':\n",
    "    print('withdraw money $$')\n",
    "else:\n",
    "    print('cant find the location!')"
   ]
  },
  {
   "cell_type": "code",
   "execution_count": 13,
   "metadata": {},
   "outputs": [
    {
     "name": "stdout",
     "output_type": "stream",
     "text": [
      "cant find the location!\n"
     ]
    }
   ],
   "source": [
    "place = 'work'\n",
    "\n",
    "if place == 'school':\n",
    "    print('finish your homework')\n",
    "elif place == 'bank':\n",
    "    print('withdraw money')\n",
    "else:\n",
    "    print('cant find the location!')"
   ]
  },
  {
   "cell_type": "markdown",
   "metadata": {},
   "source": [
    "# for Loops\n",
    "\n",
    "A <code>for</code> loop acts as an iterator in Python; it goes through all the items that are in a *sequence* or any other iterable item. We can iterate over strings, lists, tuples, and even built-in iterables for dictionaries, such as keys or values.\n",
    "\n",
    "The general format for a <code>for</code> loop in Python:\n",
    "\n",
    "    for item in object:\n",
    "        statements to do stuff"
   ]
  },
  {
   "cell_type": "code",
   "execution_count": 50,
   "metadata": {},
   "outputs": [
    {
     "name": "stdout",
     "output_type": "stream",
     "text": [
      "4\n",
      "5\n",
      "6\n",
      "9\n",
      "1\n",
      "2\n",
      "5\n",
      "7\n"
     ]
    }
   ],
   "source": [
    "list1 = [4,5,6,9,1,2,5,7]\n",
    "\n",
    "for alpha in list1:\n",
    "    print(alpha)"
   ]
  },
  {
   "cell_type": "code",
   "execution_count": 51,
   "metadata": {},
   "outputs": [
    {
     "name": "stdout",
     "output_type": "stream",
     "text": [
      "2\n",
      "4\n",
      "6\n",
      "8\n",
      "34\n",
      "78\n"
     ]
    }
   ],
   "source": [
    "#The modulo allows us to get the remainder in a division and uses the % symbol.\n",
    "\n",
    "numbers = [1,2,3,4,6,7,8,34,67,78,39,55,47,79,69]\n",
    "\n",
    "for num in numbers:\n",
    "    if num % 2 == 0:\n",
    "        print(num)"
   ]
  },
  {
   "cell_type": "code",
   "execution_count": 59,
   "metadata": {},
   "outputs": [
    {
     "name": "stdout",
     "output_type": "stream",
     "text": [
      "Odd number:1\n",
      "Even number:2\n",
      "Odd number:3\n",
      "Even number:4\n",
      "Even number:6\n",
      "Odd number:7\n",
      "Even number:8\n",
      "Even number:34\n",
      "Odd number:67\n",
      "Even number:78\n",
      "Odd number:39\n",
      "Odd number:55\n",
      "Odd number:47\n",
      "Odd number:79\n",
      "Odd number:69\n"
     ]
    }
   ],
   "source": [
    "for num in numbers:\n",
    "    if num % 2 == 0:\n",
    "        print(f'Even number:{num}')\n",
    "    else:\n",
    "        print(f'Odd number:{num}')"
   ]
  },
  {
   "cell_type": "code",
   "execution_count": 62,
   "metadata": {},
   "outputs": [
    {
     "name": "stdout",
     "output_type": "stream",
     "text": [
      "1\n",
      "3\n",
      "6\n",
      "10\n",
      "16\n",
      "23\n",
      "31\n",
      "65\n",
      "132\n",
      "210\n",
      "249\n",
      "304\n",
      "351\n",
      "430\n",
      "499\n"
     ]
    }
   ],
   "source": [
    "numbers = (1,2,3,4,6,7,8,34,67,78,39,55,47,79,69)\n",
    "\n",
    "list_sum = 0 \n",
    "\n",
    "for num in numbers:\n",
    "    list_sum = list_sum + num\n",
    "\n",
    "    print(list_sum)\n",
    "\n",
    "# How it works is, list_sum = list_sum (0)+ num (1)\n",
    "# prints 1\n",
    "# then, list_sum is 1, adds next number 2\n",
    "# prints total 3 and so on..."
   ]
  },
  {
   "cell_type": "markdown",
   "metadata": {},
   "source": [
    "# For loop with a tuple"
   ]
  },
  {
   "cell_type": "code",
   "execution_count": 63,
   "metadata": {},
   "outputs": [
    {
     "name": "stdout",
     "output_type": "stream",
     "text": [
      "1\n",
      "2\n",
      "3\n",
      "4\n",
      "5\n"
     ]
    }
   ],
   "source": [
    "tup = (1,2,3,4,5)\n",
    "\n",
    "for t in tup:\n",
    "    print(t)"
   ]
  },
  {
   "cell_type": "code",
   "execution_count": 76,
   "metadata": {},
   "outputs": [],
   "source": [
    "# Here, the tuple is in a sequence\n",
    "list2 = [(2,4),(6,8),(10,12),(14,16)]"
   ]
  },
  {
   "cell_type": "code",
   "execution_count": 77,
   "metadata": {},
   "outputs": [
    {
     "name": "stdout",
     "output_type": "stream",
     "text": [
      "(2, 4)\n",
      "(6, 8)\n",
      "(10, 12)\n",
      "(14, 16)\n"
     ]
    }
   ],
   "source": [
    "for tup in list2:\n",
    "    print(tup)"
   ]
  },
  {
   "cell_type": "code",
   "execution_count": 78,
   "metadata": {},
   "outputs": [
    {
     "name": "stdout",
     "output_type": "stream",
     "text": [
      "2\n",
      "6\n",
      "10\n",
      "14\n"
     ]
    }
   ],
   "source": [
    "# Now with unpacking!\n",
    "for (a,b) in list2:\n",
    "    print(a)"
   ]
  },
  {
   "cell_type": "code",
   "execution_count": 79,
   "metadata": {},
   "outputs": [
    {
     "name": "stdout",
     "output_type": "stream",
     "text": [
      "4\n",
      "8\n",
      "12\n",
      "16\n"
     ]
    }
   ],
   "source": [
    "for (a,b) in list2:\n",
    "    print(b)"
   ]
  },
  {
   "cell_type": "markdown",
   "metadata": {},
   "source": [
    "# Tuple with dictionaries "
   ]
  },
  {
   "cell_type": "code",
   "execution_count": 81,
   "metadata": {},
   "outputs": [],
   "source": [
    "d = {'k1':'food','k2':'water','k3':'exercise'}"
   ]
  },
  {
   "cell_type": "code",
   "execution_count": 82,
   "metadata": {},
   "outputs": [
    {
     "name": "stdout",
     "output_type": "stream",
     "text": [
      "k1\n",
      "k2\n",
      "k3\n"
     ]
    }
   ],
   "source": [
    "for item in d:\n",
    "    print(item)\n",
    "    \n",
    "# Notice we only got the keys and not values stored in the keys"
   ]
  },
  {
   "cell_type": "code",
   "execution_count": 83,
   "metadata": {},
   "outputs": [
    {
     "data": {
      "text/plain": [
       "dict_items([('k1', 'food'), ('k2', 'water'), ('k3', 'exercise')])"
      ]
     },
     "execution_count": 83,
     "metadata": {},
     "output_type": "execute_result"
    }
   ],
   "source": [
    "d.items()"
   ]
  },
  {
   "cell_type": "code",
   "execution_count": 84,
   "metadata": {},
   "outputs": [
    {
     "name": "stdout",
     "output_type": "stream",
     "text": [
      "k1\n",
      "food\n",
      "k2\n",
      "water\n",
      "k3\n",
      "exercise\n"
     ]
    }
   ],
   "source": [
    "for k,v in d.items():\n",
    "    print(k)\n",
    "    print(v) "
   ]
  },
  {
   "cell_type": "markdown",
   "metadata": {},
   "source": [
    "# While Loop\n",
    " A while statement will repeatedly execute a single statement or group of statements as long as the condition is true. The reason it is called a 'loop' is because the code statements are looped through over and over again until the condition is no longer met.\n",
    "\n",
    "The general format of a while loop is:\n",
    "\n",
    "    while test:\n",
    "        code statements\n",
    "    else:\n",
    "        final code statements"
   ]
  },
  {
   "cell_type": "code",
   "execution_count": 85,
   "metadata": {},
   "outputs": [
    {
     "name": "stdout",
     "output_type": "stream",
     "text": [
      "x value is:  0\n",
      " x is less than 10, adding 1 to x\n",
      "x value is:  1\n",
      " x is less than 10, adding 1 to x\n",
      "x value is:  2\n",
      " x is less than 10, adding 1 to x\n",
      "x value is:  3\n",
      " x is less than 10, adding 1 to x\n",
      "x value is:  4\n",
      " x is less than 10, adding 1 to x\n",
      "x value is:  5\n",
      " x is less than 10, adding 1 to x\n",
      "x value is:  6\n",
      " x is less than 10, adding 1 to x\n",
      "x value is:  7\n",
      " x is less than 10, adding 1 to x\n",
      "x value is:  8\n",
      " x is less than 10, adding 1 to x\n",
      "x value is:  9\n",
      " x is less than 10, adding 1 to x\n"
     ]
    }
   ],
   "source": [
    "x = 0\n",
    "\n",
    "while x < 10:\n",
    "    print('x value is: ',x)\n",
    "    print(' x is less than 10, adding 1 to x')\n",
    "    x+=1"
   ]
  },
  {
   "cell_type": "markdown",
   "metadata": {},
   "source": [
    "we could add an <code>else</code> statement:"
   ]
  },
  {
   "cell_type": "code",
   "execution_count": 87,
   "metadata": {},
   "outputs": [
    {
     "name": "stdout",
     "output_type": "stream",
     "text": [
      "x value is:  0\n",
      " x is less than 10, adding 1 to x\n",
      "x value is:  1\n",
      " x is less than 10, adding 1 to x\n",
      "x value is:  2\n",
      " x is less than 10, adding 1 to x\n",
      "x value is:  3\n",
      " x is less than 10, adding 1 to x\n",
      "x value is:  4\n",
      " x is less than 10, adding 1 to x\n",
      "x value is:  5\n",
      " x is less than 10, adding 1 to x\n",
      "x value is:  6\n",
      " x is less than 10, adding 1 to x\n",
      "x value is:  7\n",
      " x is less than 10, adding 1 to x\n",
      "x value is:  8\n",
      " x is less than 10, adding 1 to x\n",
      "x value is:  9\n",
      " x is less than 10, adding 1 to x\n",
      "Target Achieved\n"
     ]
    }
   ],
   "source": [
    "x = 0\n",
    "\n",
    "while x < 10:\n",
    "    print('x value is: ',x)\n",
    "    print(' x is less than 10, adding 1 to x')\n",
    "    x+=1\n",
    "    \n",
    "else:\n",
    "    print('Target Achieved')"
   ]
  },
  {
   "cell_type": "markdown",
   "metadata": {},
   "source": [
    "# break, continue, pass\n",
    "\n",
    "We can use <code>break</code>, <code>continue</code>, and <code>pass</code> statements in our loops to add additional functionality for various cases. The three statements are defined by:\n",
    "\n",
    "    break: Breaks out of the current closest enclosing loop.\n",
    "    continue: Goes to the top of the closest enclosing loop.\n",
    "    pass: Does nothing at all.\n",
    "\n",
    "Thinking about <code>break</code> and <code>continue</code> statements, the general format of the <code>while</code> loop looks like this:\n",
    "\n",
    "    while test: \n",
    "        code statement\n",
    "        if test: \n",
    "            break\n",
    "        if test: \n",
    "            continue \n",
    "    else:\n",
    "\n",
    "<code>break</code> and <code>continue</code> statements can appear anywhere inside the loop’s body, but we will usually put them further nested in conjunction with an <code>if</code> statement to perform an action based on some condition.\n",
    "\n"
   ]
  },
  {
   "cell_type": "code",
   "execution_count": 88,
   "metadata": {},
   "outputs": [
    {
     "name": "stdout",
     "output_type": "stream",
     "text": [
      "x value is:  0\n",
      " x is less than 10, adding 1 to x\n",
      "continuing...\n",
      "x value is:  1\n",
      " x is less than 10, adding 1 to x\n",
      "continuing...\n",
      "x value is:  2\n",
      " x is less than 10, adding 1 to x\n",
      "x==3\n",
      "x value is:  3\n",
      " x is less than 10, adding 1 to x\n",
      "continuing...\n",
      "x value is:  4\n",
      " x is less than 10, adding 1 to x\n",
      "continuing...\n",
      "x value is:  5\n",
      " x is less than 10, adding 1 to x\n",
      "continuing...\n",
      "x value is:  6\n",
      " x is less than 10, adding 1 to x\n",
      "continuing...\n",
      "x value is:  7\n",
      " x is less than 10, adding 1 to x\n",
      "continuing...\n",
      "x value is:  8\n",
      " x is less than 10, adding 1 to x\n",
      "continuing...\n",
      "x value is:  9\n",
      " x is less than 10, adding 1 to x\n",
      "continuing...\n"
     ]
    }
   ],
   "source": [
    "x = 0\n",
    "\n",
    "while x < 10:\n",
    "    print('x value is: ',x)\n",
    "    print(' x is less than 10, adding 1 to x')\n",
    "    x+=1\n",
    "    if x==3:\n",
    "        print('x==3')\n",
    "    else:\n",
    "        print('continuing...')\n",
    "        continue"
   ]
  },
  {
   "cell_type": "markdown",
   "metadata": {},
   "source": [
    "Note how we have a printed statement when x==3, and a continue being printed out as we continue through the outer while loop. Let's  break once x ==3 and see the result:"
   ]
  },
  {
   "cell_type": "code",
   "execution_count": 89,
   "metadata": {},
   "outputs": [
    {
     "name": "stdout",
     "output_type": "stream",
     "text": [
      "x value is:  0\n",
      " x is less than 10, adding 1 to x\n",
      "continuing...\n",
      "x value is:  1\n",
      " x is less than 10, adding 1 to x\n",
      "continuing...\n",
      "x value is:  2\n",
      " x is less than 10, adding 1 to x\n",
      "Breaking because x==3\n"
     ]
    }
   ],
   "source": [
    "x = 0\n",
    "\n",
    "while x < 10:\n",
    "    print('x value is: ',x)\n",
    "    print(' x is less than 10, adding 1 to x')\n",
    "    x+=1\n",
    "    if x==3:\n",
    "        print('Breaking because x==3')\n",
    "        break\n",
    "    else:\n",
    "        print('continuing...')\n",
    "        continue"
   ]
  },
  {
   "cell_type": "code",
   "execution_count": null,
   "metadata": {},
   "outputs": [],
   "source": []
  }
 ],
 "metadata": {
  "kernelspec": {
   "display_name": "Python 3",
   "language": "python",
   "name": "python3"
  },
  "language_info": {
   "codemirror_mode": {
    "name": "ipython",
    "version": 3
   },
   "file_extension": ".py",
   "mimetype": "text/x-python",
   "name": "python",
   "nbconvert_exporter": "python",
   "pygments_lexer": "ipython3",
   "version": "3.7.3"
  }
 },
 "nbformat": 4,
 "nbformat_minor": 2
}
