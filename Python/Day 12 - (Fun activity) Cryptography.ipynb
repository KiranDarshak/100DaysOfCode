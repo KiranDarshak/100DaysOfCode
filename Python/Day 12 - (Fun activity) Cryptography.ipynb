{
 "cells": [
  {
   "cell_type": "markdown",
   "metadata": {},
   "source": [
    "#### What is Cryptography?\n",
    "Cryptography is a method of protecting information and communications through the use of codes so that only those for whom the information is intended can read and process it. "
   ]
  },
  {
   "cell_type": "markdown",
   "metadata": {},
   "source": [
    "#### What are we going to use?\n",
    "The Caesar cipher is one of the earliest known and simplest ciphers. It is a type of substitution cipher in which each letter in the plaintext is 'shifted' a certain number of places down the alphabet."
   ]
  },
  {
   "cell_type": "markdown",
   "metadata": {},
   "source": [
    "## Imagine our system is hacked\n",
    "\n",
    "We need to send a message to the main server.\n",
    "\n",
    "We need to accomplish 3 tasks:\n",
    "\n",
    "1. Create a Caeser cipher encryption function.\n",
    "2. Create another function that decrypts a Caeser cipher message.\n",
    "3. Create a function that will brute force every possible output for an encrypted Caeser cipher."
   ]
  },
  {
   "cell_type": "markdown",
   "metadata": {},
   "source": [
    "## Encryption Function\n",
    "\n",
    "This function should take in two parameters, the plain text message and the shift number for the Caeser cipher.\n",
    "\n",
    "To create the cipher we need to create a list of the alphabet. We can either write out the alphabet manually, or use the [string library] to get all the lowercase alphabet. We first need to run *import string* , and then call the attribute."
   ]
  },
  {
   "cell_type": "code",
   "execution_count": 1,
   "metadata": {},
   "outputs": [],
   "source": [
    "import string\n",
    "alphabet = string.ascii_lowercase"
   ]
  },
  {
   "cell_type": "code",
   "execution_count": 2,
   "metadata": {},
   "outputs": [
    {
     "data": {
      "text/plain": [
       "'abcdefghijklmnopqrstuvwxyz'"
      ]
     },
     "execution_count": 2,
     "metadata": {},
     "output_type": "execute_result"
    }
   ],
   "source": [
    "alphabet"
   ]
  },
  {
   "cell_type": "code",
   "execution_count": 3,
   "metadata": {},
   "outputs": [
    {
     "data": {
      "text/plain": [
       "['a',\n",
       " 'b',\n",
       " 'c',\n",
       " 'd',\n",
       " 'e',\n",
       " 'f',\n",
       " 'g',\n",
       " 'h',\n",
       " 'i',\n",
       " 'j',\n",
       " 'k',\n",
       " 'l',\n",
       " 'm',\n",
       " 'n',\n",
       " 'o',\n",
       " 'p',\n",
       " 'q',\n",
       " 'r',\n",
       " 's',\n",
       " 't',\n",
       " 'u',\n",
       " 'v',\n",
       " 'w',\n",
       " 'x',\n",
       " 'y',\n",
       " 'z']"
      ]
     },
     "execution_count": 3,
     "metadata": {},
     "output_type": "execute_result"
    }
   ],
   "source": [
    "list(alphabet)"
   ]
  },
  {
   "cell_type": "markdown",
   "metadata": {},
   "source": [
    "Now, We create a function"
   ]
  },
  {
   "cell_type": "code",
   "execution_count": 33,
   "metadata": {},
   "outputs": [],
   "source": [
    "def encrypt(text,shift):\n",
    "\n",
    "    \n",
    "    encrypted_text = list(range(len(text)))                       # Creating a placeholder list\n",
    "    \n",
    "    alphabet = string.ascii_lowercase\n",
    "    \n",
    "    \n",
    "    first_half = alphabet[:shift]                               # Creating shifted alphabet\n",
    "    second_half = alphabet[shift:]\n",
    "    shifted_alphabet = second_half+first_half\n",
    "    \n",
    "    for i,letter in enumerate(text.lower()):\n",
    "        \n",
    "      \n",
    "        if letter in alphabet:                                 \n",
    "                                                                # Finding the original index position\n",
    "            original_index = alphabet.index(letter)\n",
    "            \n",
    "                                                                 # Shifted letter\n",
    "            new_letter = shifted_alphabet[original_index]\n",
    "            \n",
    "            encrypted_text[i] = new_letter\n",
    "        \n",
    "                                                                  # Punctuation or space\n",
    "        else:\n",
    "            encrypted_text[i] = letter\n",
    "            \n",
    "    return ''.join(encrypted_text)"
   ]
  },
  {
   "cell_type": "code",
   "execution_count": 51,
   "metadata": {},
   "outputs": [
    {
     "data": {
      "text/plain": [
       "'fsr ozsfh! gsbr o asggous hc hvs vsoreiofhsfg'"
      ]
     },
     "execution_count": 51,
     "metadata": {},
     "output_type": "execute_result"
    }
   ],
   "source": [
    "encrypt('Red Alert! Send a message to the Headquarters',14)"
   ]
  },
  {
   "cell_type": "code",
   "execution_count": 52,
   "metadata": {},
   "outputs": [
    {
     "data": {
      "text/plain": [
       "'pfsoqv ct gsqifwhm. bssr gdsqwoz tcfqsg ogod'"
      ]
     },
     "execution_count": 52,
     "metadata": {},
     "output_type": "execute_result"
    }
   ],
   "source": [
    "encrypt('Breach of Security. need special forces asap',14)"
   ]
  },
  {
   "cell_type": "markdown",
   "metadata": {},
   "source": [
    "## Decryption fuction\n",
    "\n",
    "Now we create a new function that will \"decrypt\" a shifted message. It is basically the reverse of the encryption function. The process will be very similar as the previous function, but the alphabets will be switched."
   ]
  },
  {
   "cell_type": "code",
   "execution_count": 41,
   "metadata": {},
   "outputs": [],
   "source": [
    "def decrypt(text,shift):\n",
    "    \n",
    "   \n",
    "    decrypted_text = list(range(len(text)))\n",
    "    \n",
    "    alphabet = string.ascii_lowercase\n",
    "    \n",
    "    \n",
    "    first_half = alphabet[:shift]\n",
    "    second_half = alphabet[shift:]\n",
    "    shifted_alphabet = second_half+first_half\n",
    "    \n",
    "    for i,letter in enumerate(text.lower()):\n",
    "        \n",
    "        \n",
    "        if letter in alphabet:\n",
    "            \n",
    "            index = shifted_alphabet.index(letter)\n",
    "            \n",
    "            original_letter = alphabet[index]\n",
    "            \n",
    "            decrypted_text[i] = original_letter\n",
    "        \n",
    "\n",
    "        else:\n",
    "            decrypted_text[i] = letter\n",
    "            \n",
    "    return ''.join(decrypted_text)"
   ]
  },
  {
   "cell_type": "code",
   "execution_count": 42,
   "metadata": {},
   "outputs": [
    {
     "data": {
      "text/plain": [
       "'red alert! send a message to the headquarters'"
      ]
     },
     "execution_count": 42,
     "metadata": {},
     "output_type": "execute_result"
    }
   ],
   "source": [
    "decrypt('fsr ozsfh! gsbr o asggous hc hvs vsoreiofhsfg',14)"
   ]
  },
  {
   "cell_type": "code",
   "execution_count": 53,
   "metadata": {},
   "outputs": [
    {
     "data": {
      "text/plain": [
       "'breach of security. need special forces asap'"
      ]
     },
     "execution_count": 53,
     "metadata": {},
     "output_type": "execute_result"
    }
   ],
   "source": [
    "decrypt('pfsoqv ct gsqifwhm. bssr gdsqwoz tcfqsg ogod',14)"
   ]
  },
  {
   "cell_type": "markdown",
   "metadata": {},
   "source": [
    "## Brute Force (trial and error) Method\n",
    "\n",
    "It is no gaurantee that the person on the other end will know the correct shift value. In that case we need a function that can brute force through every possible shift value and print out each outcome. Then a user could quickly read through the printed messages and find the one that is readable.\n",
    "\n",
    "** In case we dont have the shift factor number, create a function that prints out every possible shifted string given an encrypted string. ** "
   ]
  },
  {
   "cell_type": "code",
   "execution_count": 49,
   "metadata": {},
   "outputs": [],
   "source": [
    "# Use the previous decrypt() method and call for every possible shift\n",
    "# using a For Loop.\n",
    "\n",
    "\n",
    "def brute_force(message):\n",
    "    \n",
    "# range is 26 = english alphabets\n",
    "\n",
    "    for n in range(26):\n",
    "        print('Using shift value of {}'.format(n))\n",
    "        print(decrypt(message,n))\n",
    "        print('\\n')"
   ]
  },
  {
   "cell_type": "code",
   "execution_count": 50,
   "metadata": {},
   "outputs": [
    {
     "name": "stdout",
     "output_type": "stream",
     "text": [
      "Using shift value of 0\n",
      "fsr ozsfh! gsbr o asggous hc hvs vsoreiofhsfg\n",
      "\n",
      "\n",
      "Using shift value of 1\n",
      "erq nyreg! fraq n zrffntr gb gur urnqdhnegref\n",
      "\n",
      "\n",
      "Using shift value of 2\n",
      "dqp mxqdf! eqzp m yqeemsq fa ftq tqmpcgmdfqde\n",
      "\n",
      "\n",
      "Using shift value of 3\n",
      "cpo lwpce! dpyo l xpddlrp ez esp splobflcepcd\n",
      "\n",
      "\n",
      "Using shift value of 4\n",
      "bon kvobd! coxn k wocckqo dy dro roknaekbdobc\n",
      "\n",
      "\n",
      "Using shift value of 5\n",
      "anm junac! bnwm j vnbbjpn cx cqn qnjmzdjacnab\n",
      "\n",
      "\n",
      "Using shift value of 6\n",
      "zml itmzb! amvl i umaaiom bw bpm pmilycizbmza\n",
      "\n",
      "\n",
      "Using shift value of 7\n",
      "ylk hslya! zluk h tlzzhnl av aol olhkxbhyalyz\n",
      "\n",
      "\n",
      "Using shift value of 8\n",
      "xkj grkxz! yktj g skyygmk zu znk nkgjwagxzkxy\n",
      "\n",
      "\n",
      "Using shift value of 9\n",
      "wji fqjwy! xjsi f rjxxflj yt ymj mjfivzfwyjwx\n",
      "\n",
      "\n",
      "Using shift value of 10\n",
      "vih epivx! wirh e qiwweki xs xli liehuyevxivw\n",
      "\n",
      "\n",
      "Using shift value of 11\n",
      "uhg dohuw! vhqg d phvvdjh wr wkh khdgtxduwhuv\n",
      "\n",
      "\n",
      "Using shift value of 12\n",
      "tgf cngtv! ugpf c oguucig vq vjg jgcfswctvgtu\n",
      "\n",
      "\n",
      "Using shift value of 13\n",
      "sfe bmfsu! tfoe b nfttbhf up uif ifbervbsufst\n",
      "\n",
      "\n",
      "Using shift value of 14\n",
      "red alert! send a message to the headquarters\n",
      "\n",
      "\n",
      "Using shift value of 15\n",
      "qdc zkdqs! rdmc z ldrrzfd sn sgd gdzcptzqsdqr\n",
      "\n",
      "\n",
      "Using shift value of 16\n",
      "pcb yjcpr! qclb y kcqqyec rm rfc fcybosyprcpq\n",
      "\n",
      "\n",
      "Using shift value of 17\n",
      "oba xiboq! pbka x jbppxdb ql qeb ebxanrxoqbop\n",
      "\n",
      "\n",
      "Using shift value of 18\n",
      "naz whanp! oajz w iaoowca pk pda dawzmqwnpano\n",
      "\n",
      "\n",
      "Using shift value of 19\n",
      "mzy vgzmo! nziy v hznnvbz oj ocz czvylpvmozmn\n",
      "\n",
      "\n",
      "Using shift value of 20\n",
      "lyx ufyln! myhx u gymmuay ni nby byuxkoulnylm\n",
      "\n",
      "\n",
      "Using shift value of 21\n",
      "kxw texkm! lxgw t fxlltzx mh max axtwjntkmxkl\n",
      "\n",
      "\n",
      "Using shift value of 22\n",
      "jwv sdwjl! kwfv s ewkksyw lg lzw zwsvimsjlwjk\n",
      "\n",
      "\n",
      "Using shift value of 23\n",
      "ivu rcvik! jveu r dvjjrxv kf kyv yvruhlrikvij\n",
      "\n",
      "\n",
      "Using shift value of 24\n",
      "hut qbuhj! iudt q cuiiqwu je jxu xuqtgkqhjuhi\n",
      "\n",
      "\n",
      "Using shift value of 25\n",
      "gts patgi! htcs p bthhpvt id iwt wtpsfjpgitgh\n",
      "\n",
      "\n"
     ]
    }
   ],
   "source": [
    "brute_force('fsr ozsfh! gsbr o asggous hc hvs vsoreiofhsfg')"
   ]
  },
  {
   "cell_type": "code",
   "execution_count": 54,
   "metadata": {},
   "outputs": [
    {
     "name": "stdout",
     "output_type": "stream",
     "text": [
      "Using shift value of 0\n",
      "pfsoqv ct gsqifwhm. bssr gdsqwoz tcfqsg ogod\n",
      "\n",
      "\n",
      "Using shift value of 1\n",
      "oernpu bs frphevgl. arrq fcrpvny sbeprf nfnc\n",
      "\n",
      "\n",
      "Using shift value of 2\n",
      "ndqmot ar eqogdufk. zqqp ebqoumx radoqe memb\n",
      "\n",
      "\n",
      "Using shift value of 3\n",
      "mcplns zq dpnfctej. yppo dapntlw qzcnpd ldla\n",
      "\n",
      "\n",
      "Using shift value of 4\n",
      "lbokmr yp comebsdi. xoon czomskv pybmoc kckz\n",
      "\n",
      "\n",
      "Using shift value of 5\n",
      "kanjlq xo bnldarch. wnnm bynlrju oxalnb jbjy\n",
      "\n",
      "\n",
      "Using shift value of 6\n",
      "jzmikp wn amkczqbg. vmml axmkqit nwzkma iaix\n",
      "\n",
      "\n",
      "Using shift value of 7\n",
      "iylhjo vm zljbypaf. ullk zwljphs mvyjlz hzhw\n",
      "\n",
      "\n",
      "Using shift value of 8\n",
      "hxkgin ul ykiaxoze. tkkj yvkiogr luxiky gygv\n",
      "\n",
      "\n",
      "Using shift value of 9\n",
      "gwjfhm tk xjhzwnyd. sjji xujhnfq ktwhjx fxfu\n",
      "\n",
      "\n",
      "Using shift value of 10\n",
      "fviegl sj wigyvmxc. riih wtigmep jsvgiw ewet\n",
      "\n",
      "\n",
      "Using shift value of 11\n",
      "euhdfk ri vhfxulwb. qhhg vshfldo irufhv dvds\n",
      "\n",
      "\n",
      "Using shift value of 12\n",
      "dtgcej qh ugewtkva. pggf urgekcn hqtegu cucr\n",
      "\n",
      "\n",
      "Using shift value of 13\n",
      "csfbdi pg tfdvsjuz. offe tqfdjbm gpsdft btbq\n",
      "\n",
      "\n",
      "Using shift value of 14\n",
      "breach of security. need special forces asap\n",
      "\n",
      "\n",
      "Using shift value of 15\n",
      "aqdzbg ne rdbtqhsx. mddc rodbhzk enqbdr zrzo\n",
      "\n",
      "\n",
      "Using shift value of 16\n",
      "zpcyaf md qcaspgrw. lccb qncagyj dmpacq yqyn\n",
      "\n",
      "\n",
      "Using shift value of 17\n",
      "yobxze lc pbzrofqv. kbba pmbzfxi clozbp xpxm\n",
      "\n",
      "\n",
      "Using shift value of 18\n",
      "xnawyd kb oayqnepu. jaaz olayewh bknyao wowl\n",
      "\n",
      "\n",
      "Using shift value of 19\n",
      "wmzvxc ja nzxpmdot. izzy nkzxdvg ajmxzn vnvk\n",
      "\n",
      "\n",
      "Using shift value of 20\n",
      "vlyuwb iz mywolcns. hyyx mjywcuf zilwym umuj\n",
      "\n",
      "\n",
      "Using shift value of 21\n",
      "ukxtva hy lxvnkbmr. gxxw lixvbte yhkvxl tlti\n",
      "\n",
      "\n",
      "Using shift value of 22\n",
      "tjwsuz gx kwumjalq. fwwv khwuasd xgjuwk sksh\n",
      "\n",
      "\n",
      "Using shift value of 23\n",
      "sivrty fw jvtlizkp. evvu jgvtzrc wfitvj rjrg\n",
      "\n",
      "\n",
      "Using shift value of 24\n",
      "rhuqsx ev iuskhyjo. duut ifusyqb vehsui qiqf\n",
      "\n",
      "\n",
      "Using shift value of 25\n",
      "qgtprw du htrjgxin. ctts hetrxpa udgrth phpe\n",
      "\n",
      "\n"
     ]
    }
   ],
   "source": [
    "brute_force('pfsoqv ct gsqifwhm. bssr gdsqwoz tcfqsg ogod')"
   ]
  },
  {
   "cell_type": "code",
   "execution_count": 60,
   "metadata": {},
   "outputs": [
    {
     "data": {
      "text/plain": [
       "'breach of security. need special forces asap'"
      ]
     },
     "execution_count": 60,
     "metadata": {},
     "output_type": "execute_result"
    }
   ],
   "source": [
    "decrypt('pfsoqv ct gsqifwhm. bssr gdsqwoz tcfqsg ogod',14)"
   ]
  },
  {
   "cell_type": "code",
   "execution_count": null,
   "metadata": {},
   "outputs": [],
   "source": []
  }
 ],
 "metadata": {
  "kernelspec": {
   "display_name": "Python 3",
   "language": "python",
   "name": "python3"
  },
  "language_info": {
   "codemirror_mode": {
    "name": "ipython",
    "version": 3
   },
   "file_extension": ".py",
   "mimetype": "text/x-python",
   "name": "python",
   "nbconvert_exporter": "python",
   "pygments_lexer": "ipython3",
   "version": "3.7.3"
  }
 },
 "nbformat": 4,
 "nbformat_minor": 2
}
